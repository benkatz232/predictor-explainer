{
 "cells": [
  {
   "cell_type": "markdown",
   "metadata": {},
   "source": [
    "# Predictor Explainer"
   ]
  },
  {
   "cell_type": "markdown",
   "metadata": {},
   "source": [
    "The following Python code runs after the user has selected all the `X`'s, `y`, `Datetime` (optional), `Weights` (optional) and other parameters. [PyJMP](https://github.com/industrial-data/predictor-explainer/pyJMP) needs to be installed.\n",
    "\n",
    "The main idea is to find variables (`X`'s or tags) that correlate with at certain target (`y`). Intentionally, the purpose is to generate **descriptive models** to find interesting variables to visualize.\n",
    "\n",
    "More information can be found here:\n",
    "\n",
    "* [Predictor Explainer](https://github.com/industrial-data/predictor-explainer/pyJMP)\n",
    "* [Industrial data science – a review of machine learning applications for chemical and process industries](https://pubs.rsc.org/en/content/articlelanding/2022/re/d1re00541c)\n"
   ]
  },
  {
   "cell_type": "code",
   "execution_count": 1,
   "metadata": {
    "execution": {
     "iopub.execute_input": "2022-09-12T21:11:22.475468Z",
     "iopub.status.busy": "2022-09-12T21:11:22.474470Z",
     "iopub.status.idle": "2022-09-12T21:11:22.496847Z",
     "shell.execute_reply": "2022-09-12T21:11:22.495845Z"
    }
   },
   "outputs": [],
   "source": [
    "__author__ = 'Francisco Navarro; Juline Gillard (ext.)'\n",
    "__license__ = \"BSD Clause-3\"\n",
    "__version__ = '2022.09.12'\n",
    "__maintainer__ = 'Francisco Navarro; Carlos Perez-Galvan'\n",
    "__status__ = 'beta'\n",
    "__url__ = 'https://github.com/industrial-data/predictor-explainer'"
   ]
  },
  {
   "cell_type": "markdown",
   "metadata": {},
   "source": [
    "# Loading Python libraries"
   ]
  },
  {
   "cell_type": "code",
   "execution_count": 2,
   "metadata": {
    "execution": {
     "iopub.execute_input": "2022-09-12T21:11:22.501833Z",
     "iopub.status.busy": "2022-09-12T21:11:22.501833Z",
     "iopub.status.idle": "2022-09-12T21:11:35.782410Z",
     "shell.execute_reply": "2022-09-12T21:11:35.781405Z"
    }
   },
   "outputs": [],
   "source": [
    "import numpy as np\n",
    "import pandas as pd\n",
    "import shap\n",
    "import umap\n",
    "import hdbscan\n",
    "from lightgbm.sklearn import LGBMRegressor\n",
    "import matplotlib.pyplot as plt\n",
    "import time\n",
    "import os\n",
    "import re\n",
    "\n",
    "# To deactivate plots, change to False\n",
    "is_plotting = True\n",
    "\n",
    "if is_plotting:\n",
    "    import umap.plot"
   ]
  },
  {
   "cell_type": "markdown",
   "metadata": {},
   "source": [
    "# Loading data from temp files (saved by JMP)"
   ]
  },
  {
   "cell_type": "markdown",
   "metadata": {},
   "source": [
    "<div class=\"alert alert-block alert-warning\">New CSV files are generated only when the user clicks OK in the Predictor Explainer add-in.</div>"
   ]
  },
  {
   "cell_type": "code",
   "execution_count": 3,
   "metadata": {
    "execution": {
     "iopub.execute_input": "2022-09-12T21:11:35.791405Z",
     "iopub.status.busy": "2022-09-12T21:11:35.790415Z",
     "iopub.status.idle": "2022-09-12T21:11:35.797626Z",
     "shell.execute_reply": "2022-09-12T21:11:35.797626Z"
    }
   },
   "outputs": [
    {
     "name": "stdout",
     "output_type": "stream",
     "text": [
      "C:\\Users\\BE042099\\AppData\\Local\\Temp\n"
     ]
    }
   ],
   "source": [
    "temp_data_path = os.path.join(os.path.join(os.environ['USERPROFILE']),\n",
    "                             'AppData',\n",
    "                             'Local',\n",
    "                             'Temp')\n",
    "print(temp_data_path)"
   ]
  },
  {
   "cell_type": "code",
   "execution_count": 4,
   "metadata": {
    "execution": {
     "iopub.execute_input": "2022-09-12T21:11:35.835305Z",
     "iopub.status.busy": "2022-09-12T21:11:35.835305Z",
     "iopub.status.idle": "2022-09-12T21:11:35.862268Z",
     "shell.execute_reply": "2022-09-12T21:11:35.861164Z"
    }
   },
   "outputs": [
    {
     "name": "stdout",
     "output_type": "stream",
     "text": [
      "Weights were not defined by user\n"
     ]
    }
   ],
   "source": [
    "y_path_csv = os.path.join(temp_data_path,'y.csv')\n",
    "X_path_csv = os.path.join(temp_data_path,'X.csv')\n",
    "t_path_csv = os.path.join(temp_data_path,'t.csv')\n",
    "W_path_csv = os.path.join(temp_data_path,'W.csv')\n",
    "user_parameters_csv = os.path.join(temp_data_path,'user_parameters.csv')\n",
    "\n",
    "is_unspervised_learning = False\n",
    "\n",
    "try:\n",
    "    y = pd.read_csv(y_path_csv)\n",
    "except:\n",
    "    print(\"target column couldn't be loaded correctly, assuming unspervised learning \")\n",
    "    is_unspervised_learning = True\n",
    "\n",
    "try:\n",
    "    X = pd.read_csv(X_path_csv)\n",
    "    JMP_row_index = X['row_index'].copy();\n",
    "    del X['row_index']\n",
    "    \n",
    "except Exception:\n",
    "    print(\"X columns couldn't be loaded correctly, make sure they exist\")    \n",
    "\n",
    "try:\n",
    "    t = pd.read_csv(t_path_csv)\n",
    "except:\n",
    "    print('Time column was not defined by user')\n",
    "    \n",
    "try:\n",
    "    W = pd.read_csv(W_path_csv)\n",
    "except:\n",
    "    print('Weights were not defined by user')\n",
    "\n",
    "try:\n",
    "    JMP_user_parameters = pd.read_csv(user_parameters_csv)\n",
    "except:\n",
    "    print('User parameters not defined')"
   ]
  },
  {
   "cell_type": "code",
   "execution_count": 5,
   "metadata": {
    "execution": {
     "iopub.execute_input": "2022-09-12T21:11:35.866296Z",
     "iopub.status.busy": "2022-09-12T21:11:35.866296Z",
     "iopub.status.idle": "2022-09-12T21:11:35.877097Z",
     "shell.execute_reply": "2022-09-12T21:11:35.876118Z"
    }
   },
   "outputs": [
    {
     "name": "stdout",
     "output_type": "stream",
     "text": [
      "Options defined in JMP addin: \n",
      "\n",
      "    nTrees  SignalToNoiseRatio  NdimUMAP     metric  nrows\n",
      "0     100                   3         2  euclidean      1\n"
     ]
    }
   ],
   "source": [
    "print('Options defined in JMP addin: \\n\\n', JMP_user_parameters);"
   ]
  },
  {
   "cell_type": "code",
   "execution_count": 6,
   "metadata": {
    "execution": {
     "iopub.execute_input": "2022-09-12T21:11:35.881091Z",
     "iopub.status.busy": "2022-09-12T21:11:35.881091Z",
     "iopub.status.idle": "2022-09-12T21:11:35.908441Z",
     "shell.execute_reply": "2022-09-12T21:11:35.907440Z"
    }
   },
   "outputs": [],
   "source": [
    "# This function will be used at the end to create umap from RF selected features\n",
    "def umap_princ_components(X, n_umap_components=2, distance='euclidean'):\n",
    "    '''Takes not scaled X(obs,variables) and reduces to n_comp dimensions\n",
    "    by using umap reducer embedding.\n",
    "    \n",
    "    It returns a dataframe with the following columns:\n",
    "        n_comp (embeddings)\n",
    "        euclidan distance between consecutive rows\n",
    "        sum(n_comp)\n",
    "        labels for clusters\n",
    "        outlier score based on density'''\n",
    "    \n",
    "    #n_umap_components = 2 # default and paper\n",
    "    \n",
    "    print('N of umap dimensions', n_umap_components)\n",
    "    print('Distance metric:', distance)\n",
    "    \n",
    "    # Data prep\n",
    "    \n",
    "    # Umap does not handle NaNs (TODO improve)\n",
    "    # Simplest time series approach:\n",
    "    # forward filled and then back filled\n",
    "    # (!) Not compatible with batch data\n",
    "    X_unsupervised = X.copy()\n",
    "    \n",
    "    X_unsupervised = X_unsupervised.fillna(method='ffill')\n",
    "    X_unsupervised = X_unsupervised.fillna(method='bfill')\n",
    "    \n",
    "    # Drops any reamining column with of empty values\n",
    "    X_unsupervised = X_unsupervised.dropna(axis=1, how='all')\n",
    "    \n",
    "    # Robust normalization\n",
    "    X_unsupervised_normalized = ((X_unsupervised-X_unsupervised.quantile(0.03)) /\n",
    "                                 (X_unsupervised.quantile(0.97)-X_unsupervised.quantile(0.03)))\n",
    "    \n",
    "    # If values are fairly constant, (q97-q03) division returns NaN (TODO improve)\n",
    "    X_unsupervised_normalized = X_unsupervised_normalized.dropna(axis=1, how='any')\n",
    "\n",
    "    X_unsupervised_normalized = X_unsupervised_normalized.clip(0, 1)\n",
    "    \n",
    "    # Dimensionality reduction\n",
    "    \n",
    "    # Choice of parameters is indicated but also shared with\n",
    "    # paper https://doi.org/10.1016/j.conengprac.2019.104189\n",
    "    \n",
    "    # TODO Exploit AlignedUMAP for time varying data\n",
    "    # https://umap-learn.readthedocs.io/en/latest/aligned_umap_politics_demo.html\n",
    "    \n",
    "    if distance == 'euclidean':\n",
    "        y_distance = 'l2'\n",
    "    \n",
    "    if distance == 'manhattan':\n",
    "        y_distance = 'l1'\n",
    "        \n",
    "    if is_unspervised_learning:\n",
    "    \n",
    "        embedding = umap.UMAP(n_neighbors=15, # default and paper\n",
    "                            min_dist=0.1, # default and paper\n",
    "                            n_components=n_umap_components,\n",
    "                            metric=distance,\n",
    "                            output_metric=distance,\n",
    "                            target_metric=y_distance,\n",
    "                            #random_state=42, # uncomment to get slower but reproducible results\n",
    "                            ).fit(X_unsupervised_normalized)\n",
    "    else:\n",
    "        embedding = umap.UMAP(n_neighbors=15, # default and paper\n",
    "                            min_dist=0.1, # default and paper\n",
    "                            n_components=n_umap_components,\n",
    "                            metric=distance,\n",
    "                            output_metric=distance,\n",
    "                            target_metric=y_distance,\n",
    "                            #random_state=42, # uncomment to get slower but reproducible results\n",
    "                            ).fit(X_unsupervised_normalized, y=y) #add 'y' as function input\n",
    "        \n",
    "        \n",
    "        \n",
    "    # Generating umap column names\n",
    "    umap_col_names = ['umap'+str(i+1) for i in range(n_umap_components)]\n",
    "    \n",
    "    # Saving table\n",
    "    array_umap_components = embedding.embedding_\n",
    "    df_umap = pd.DataFrame(array_umap_components, columns=umap_col_names)\n",
    "    \n",
    "\n",
    "    \n",
    "    # Clustering and density analysis \n",
    "\n",
    "    n_observations = len(X_unsupervised_normalized.index)\n",
    "    percentual_threshold = 0.05 # % of data required to form cluster \n",
    "\n",
    "    # array_umap_components = df_umap.iloc[:,:n_umap_components].values\n",
    "\n",
    "    clusterer = hdbscan.HDBSCAN(\n",
    "                        min_samples=5,\n",
    "                        min_cluster_size=round(percentual_threshold*n_observations),\n",
    "                        ).fit(array_umap_components)\n",
    "\n",
    "    labels = clusterer.labels_  \n",
    "\n",
    "    are_clustered = (labels >= 0) #-1 are unclustered points\n",
    "    \n",
    "    df_umap['umap_clusters'] = labels\n",
    "    df_umap['outlier_score'] = clusterer.outlier_scores_\n",
    "    \n",
    "    # Row or time difference\n",
    "    diff_period = int(JMP_user_parameters['nrows'])\n",
    "    print('N of rows for finite differences', diff_period)\n",
    "    \n",
    "    df_umap_shift = df_umap.shift(periods = diff_period, axis = 0).copy()\n",
    "    \n",
    "    if distance == 'euclidean':\n",
    "        # 2-norm distance between consecutive points\n",
    "        df_umap['distance_diff_umap'] = np.linalg.norm(df_umap.values - df_umap_shift.values, axis=1)\n",
    "    \n",
    "    if distance == 'manhattan':\n",
    "        # 1-norm distance between consecutive points\n",
    "        df_umap['distance_diff_umap'] = np.linalg.norm(df_umap.values - df_umap_shift.values, ord=1, axis=1)\n",
    "    \n",
    "    \n",
    "    # IMPORTANT TODO we are adding all umap components as target function\n",
    "    # this assumes that dimensions have no importance (?) (unlike PCA)\n",
    "    df_umap['sum_umap_comp'] = df_umap.iloc[:,:n_umap_components].sum(axis=1)\n",
    "    \n",
    "    if not(is_unspervised_learning):\n",
    "        df_umap['y'] = y\n",
    "        \n",
    "    df_umap_path_csv = os.path.join(temp_data_path,'df_umap.csv')\n",
    "    \n",
    "    df_umap.index = JMP_row_index\n",
    "    df_umap.to_csv(df_umap_path_csv)\n",
    "    df_umap = df_umap.reset_index()\n",
    "\n",
    "    if is_plotting:\n",
    "        \n",
    "        if n_umap_components == 1:\n",
    "            cmap = plt.cm.Paired\n",
    "            df_umap.reset_index().plot.scatter(x='index', y='umap1', c=cmap(labels), xlabel='row index', ylabel='umap 1D')\n",
    "        \n",
    "        if n_umap_components == 2:\n",
    "            umap.plot.connectivity(embedding, show_points=True, labels=labels)\n",
    "        #df_umap.plot()\n",
    "        \n",
    "        if n_umap_components >= 3:\n",
    "            \n",
    "            #cmap = plt.cm.Paired\n",
    "            \n",
    "            df_umap_parallel = df_umap[umap_col_names+['umap_clusters']]\n",
    "            df_umap_parallel = df_umap_parallel[are_clustered]\n",
    "            \n",
    "            n_clusters = len(df_umap_parallel['umap_clusters'].unique())\n",
    "            \n",
    "            pd.plotting.parallel_coordinates(df_umap_parallel,\n",
    "                                             'umap_clusters')\n",
    "    \n",
    "    return df_umap, n_umap_components\n",
    "\n"
   ]
  },
  {
   "cell_type": "markdown",
   "metadata": {},
   "source": [
    "# Unsupervised step (only if target was not given by user)"
   ]
  },
  {
   "cell_type": "code",
   "execution_count": 7,
   "metadata": {
    "execution": {
     "iopub.execute_input": "2022-09-12T21:11:35.913463Z",
     "iopub.status.busy": "2022-09-12T21:11:35.912429Z",
     "iopub.status.idle": "2022-09-12T21:11:35.923875Z",
     "shell.execute_reply": "2022-09-12T21:11:35.922873Z"
    }
   },
   "outputs": [],
   "source": [
    "if is_unspervised_learning:\n",
    "    print('Reducing dimensionality and using such as target')\n",
    "    \n",
    "    n_umap_components = int(JMP_user_parameters['NdimUMAP'])\n",
    "    distance = str(JMP_user_parameters['metric'][0])\n",
    "    \n",
    "    df_umap, n_umap_components = umap_princ_components(X, n_umap_components, distance)\n",
    "    y = df_umap['sum_umap_comp'].copy().to_frame()"
   ]
  },
  {
   "cell_type": "markdown",
   "metadata": {},
   "source": [
    "# Data preparation"
   ]
  },
  {
   "cell_type": "code",
   "execution_count": 8,
   "metadata": {
    "execution": {
     "iopub.execute_input": "2022-09-12T21:11:35.928893Z",
     "iopub.status.busy": "2022-09-12T21:11:35.928893Z",
     "iopub.status.idle": "2022-09-12T21:11:35.955217Z",
     "shell.execute_reply": "2022-09-12T21:11:35.954183Z"
    },
    "scrolled": false
   },
   "outputs": [
    {
     "name": "stdout",
     "output_type": "stream",
     "text": [
      "<class 'pandas.core.frame.DataFrame'>\n",
      "<class 'pandas.core.frame.DataFrame'>\n",
      "<class 'pandas.core.frame.DataFrame'>\n"
     ]
    }
   ],
   "source": [
    "# JMP loads everything as data frames\n",
    "\n",
    "def rename_df_columns(my_dataframe):\n",
    "    '''Light GBM does not support special JSON Characters in column names yet\n",
    "    This function susbtitues by _ all characters in column names that are not letters or numbers'''\n",
    "    \n",
    "    print(type(my_dataframe))\n",
    "    \n",
    "    # If errors, uncomment the following line.\n",
    "    my_dataframe = my_dataframe.rename(columns = lambda str_column:re.sub(r'[^A-Za-z0-9_]+','_', str_column))\n",
    "        \n",
    "    # Once fixed, the following reg. exp. will keep special JSON charaters\n",
    "    # my_data_frame = my_data_frame.rename(columns = lambda str_column:re.sub(r'[^\\x00-\\x7F]+','', str_column))\n",
    "    \n",
    "    return my_dataframe\n",
    "\n",
    "\n",
    "y = rename_df_columns(y) # removing special characters\n",
    "y = y.iloc[:, 0] # converting df to series\n",
    "\n",
    "\n",
    "tic = time.time()\n",
    "\n",
    "# Removes X columns that are non numeric (e.g. dates in X)\n",
    "X = X.select_dtypes(include=np.number)\n",
    "\n",
    "\n",
    "# Adding index in case a counter fits the data well (acumulation)\n",
    "# X['SHAP_row_index'] = range(1, len(X) + 1)\n",
    "X = rename_df_columns(X) # removing special characters\n",
    "\n",
    "if y.name in X.columns:\n",
    "    print('Output columns was given as input! Removing it from X')\n",
    "    del X[y.name]\n",
    "    \n",
    "try:\n",
    "    t\n",
    "except NameError:\n",
    "    t_exists = False\n",
    "else:\n",
    "    t_exists = True\n",
    "    t = rename_df_columns(t) # removing special characters\n",
    "    \n",
    "    #t.to_csv('C:\\Temp\\JMP_time.csv')\n",
    "    \n",
    "    t.iloc[:,0] = pd.to_datetime(t.iloc[:,0], unit='s', origin=pd.Timestamp('1904-01-01'))\n",
    "    t = t.iloc[:, 0] # converting to series\n",
    "    \n",
    "    \n",
    "try:\n",
    "    W\n",
    "except NameError:\n",
    "    W_exists = False\n",
    "else:\n",
    "    W_exists = True\n",
    "    W = rename_df_columns(W) # removing special characters\n",
    "    \n",
    "    #W.to_csv('C:\\Temp\\JMP_weight.csv')\n",
    "    \n",
    "    W = W.iloc[:, 0] # converting to series\n",
    "\n",
    "\n",
    "    \n",
    "# print('X head: \\n', X.head())\n",
    "# print('X tail: \\n', X.tail())\n",
    "# print('y: \\n', y)\n",
    "\n",
    "assert (len(X) == len(y) ), 'Number of rows of X, y does not match!'\n",
    "\n",
    "#check if NaN exist in Y, W, t and remove corresponding X \n",
    "y.dropna(inplace=True)\n",
    "index_not_nan = y.index\n",
    "X = X.loc[index_not_nan,:]\n",
    "\n",
    "JMP_row_index = JMP_row_index[index_not_nan]\n",
    "\n",
    "if t_exists:\n",
    "    t = t[index_not_nan]\n",
    "    t.dropna(inplace=True)\n",
    "    t_index_not_nan = t.index\n",
    "    \n",
    "    y = y[t_index_not_nan]\n",
    "    X = X.loc[t_index_not_nan,:]\n",
    "    assert (len(X) == len(y) == len(t)), 'Number of rows of X, y and t does not match'\n",
    "\n",
    "if W_exists:\n",
    "    W = W[index_not_nan] \n",
    "    W.fillna(0)\n",
    "    W = (W-W.min())/(W.max()-W.min())\n",
    "    assert (len(X) == len(y) == len(W)), 'Number of rows of X, y and W does not match'\n",
    "    weights = W\n",
    "    \n",
    "# print('X head (after dropping NaN): \\n', X.head())\n",
    "# print('X tail (after dropping NaN): \\n', X.tail())\n",
    "# print('y (after dropping NaN): \\n', y)    "
   ]
  },
  {
   "cell_type": "code",
   "execution_count": 9,
   "metadata": {
    "execution": {
     "iopub.execute_input": "2022-09-12T21:11:35.959211Z",
     "iopub.status.busy": "2022-09-12T21:11:35.959211Z",
     "iopub.status.idle": "2022-09-12T21:11:35.986319Z",
     "shell.execute_reply": "2022-09-12T21:11:35.985316Z"
    }
   },
   "outputs": [
    {
     "data": {
      "text/html": [
       "<div>\n",
       "<style scoped>\n",
       "    .dataframe tbody tr th:only-of-type {\n",
       "        vertical-align: middle;\n",
       "    }\n",
       "\n",
       "    .dataframe tbody tr th {\n",
       "        vertical-align: top;\n",
       "    }\n",
       "\n",
       "    .dataframe thead th {\n",
       "        text-align: right;\n",
       "    }\n",
       "</style>\n",
       "<table border=\"1\" class=\"dataframe\">\n",
       "  <thead>\n",
       "    <tr style=\"text-align: right;\">\n",
       "      <th></th>\n",
       "      <th>yield</th>\n",
       "    </tr>\n",
       "  </thead>\n",
       "  <tbody>\n",
       "    <tr>\n",
       "      <th>0</th>\n",
       "      <td>69.400623</td>\n",
       "    </tr>\n",
       "    <tr>\n",
       "      <th>1</th>\n",
       "      <td>66.532666</td>\n",
       "    </tr>\n",
       "    <tr>\n",
       "      <th>2</th>\n",
       "      <td>71.102193</td>\n",
       "    </tr>\n",
       "    <tr>\n",
       "      <th>3</th>\n",
       "      <td>69.793481</td>\n",
       "    </tr>\n",
       "    <tr>\n",
       "      <th>4</th>\n",
       "      <td>71.489516</td>\n",
       "    </tr>\n",
       "    <tr>\n",
       "      <th>6</th>\n",
       "      <td>69.161052</td>\n",
       "    </tr>\n",
       "    <tr>\n",
       "      <th>7</th>\n",
       "      <td>71.399191</td>\n",
       "    </tr>\n",
       "    <tr>\n",
       "      <th>8</th>\n",
       "      <td>70.125880</td>\n",
       "    </tr>\n",
       "    <tr>\n",
       "      <th>9</th>\n",
       "      <td>69.726319</td>\n",
       "    </tr>\n",
       "    <tr>\n",
       "      <th>10</th>\n",
       "      <td>67.777871</td>\n",
       "    </tr>\n",
       "  </tbody>\n",
       "</table>\n",
       "</div>"
      ],
      "text/plain": [
       "        yield\n",
       "0   69.400623\n",
       "1   66.532666\n",
       "2   71.102193\n",
       "3   69.793481\n",
       "4   71.489516\n",
       "6   69.161052\n",
       "7   71.399191\n",
       "8   70.125880\n",
       "9   69.726319\n",
       "10  67.777871"
      ]
     },
     "execution_count": 9,
     "metadata": {},
     "output_type": "execute_result"
    }
   ],
   "source": [
    "y.to_frame().head(10) # head (after dropping NaNs)"
   ]
  },
  {
   "cell_type": "code",
   "execution_count": 10,
   "metadata": {
    "execution": {
     "iopub.execute_input": "2022-09-12T21:11:35.990333Z",
     "iopub.status.busy": "2022-09-12T21:11:35.989309Z",
     "iopub.status.idle": "2022-09-12T21:11:36.001280Z",
     "shell.execute_reply": "2022-09-12T21:11:36.000646Z"
    }
   },
   "outputs": [
    {
     "data": {
      "text/html": [
       "<div>\n",
       "<style scoped>\n",
       "    .dataframe tbody tr th:only-of-type {\n",
       "        vertical-align: middle;\n",
       "    }\n",
       "\n",
       "    .dataframe tbody tr th {\n",
       "        vertical-align: top;\n",
       "    }\n",
       "\n",
       "    .dataframe thead th {\n",
       "        text-align: right;\n",
       "    }\n",
       "</style>\n",
       "<table border=\"1\" class=\"dataframe\">\n",
       "  <thead>\n",
       "    <tr style=\"text-align: right;\">\n",
       "      <th></th>\n",
       "      <th>Diff_PressureC1_</th>\n",
       "      <th>Temp1</th>\n",
       "      <th>FlowC1</th>\n",
       "      <th>FlowC9</th>\n",
       "      <th>TempC3</th>\n",
       "      <th>Random_Uniform</th>\n",
       "    </tr>\n",
       "  </thead>\n",
       "  <tbody>\n",
       "    <tr>\n",
       "      <th>0</th>\n",
       "      <td>NaN</td>\n",
       "      <td>139.9857</td>\n",
       "      <td>432.0636</td>\n",
       "      <td>86.6133</td>\n",
       "      <td>180.5578</td>\n",
       "      <td>0.036153</td>\n",
       "    </tr>\n",
       "    <tr>\n",
       "      <th>1</th>\n",
       "      <td>-9.9628</td>\n",
       "      <td>131.0470</td>\n",
       "      <td>487.4029</td>\n",
       "      <td>97.6100</td>\n",
       "      <td>172.6575</td>\n",
       "      <td>0.857658</td>\n",
       "    </tr>\n",
       "    <tr>\n",
       "      <th>2</th>\n",
       "      <td>-0.0695</td>\n",
       "      <td>118.2666</td>\n",
       "      <td>437.3516</td>\n",
       "      <td>88.4967</td>\n",
       "      <td>165.9400</td>\n",
       "      <td>0.646621</td>\n",
       "    </tr>\n",
       "    <tr>\n",
       "      <th>3</th>\n",
       "      <td>0.2257</td>\n",
       "      <td>118.1769</td>\n",
       "      <td>481.8314</td>\n",
       "      <td>95.3483</td>\n",
       "      <td>NaN</td>\n",
       "      <td>0.531245</td>\n",
       "    </tr>\n",
       "    <tr>\n",
       "      <th>4</th>\n",
       "      <td>-0.1678</td>\n",
       "      <td>120.7891</td>\n",
       "      <td>NaN</td>\n",
       "      <td>82.9533</td>\n",
       "      <td>167.0326</td>\n",
       "      <td>0.056845</td>\n",
       "    </tr>\n",
       "    <tr>\n",
       "      <th>6</th>\n",
       "      <td>0.3616</td>\n",
       "      <td>120.8903</td>\n",
       "      <td>493.8452</td>\n",
       "      <td>99.8533</td>\n",
       "      <td>169.9978</td>\n",
       "      <td>0.669852</td>\n",
       "    </tr>\n",
       "    <tr>\n",
       "      <th>7</th>\n",
       "      <td>0.1880</td>\n",
       "      <td>119.4786</td>\n",
       "      <td>429.0580</td>\n",
       "      <td>85.8233</td>\n",
       "      <td>166.9747</td>\n",
       "      <td>0.123346</td>\n",
       "    </tr>\n",
       "    <tr>\n",
       "      <th>8</th>\n",
       "      <td>-0.2575</td>\n",
       "      <td>124.8390</td>\n",
       "      <td>414.0616</td>\n",
       "      <td>82.6411</td>\n",
       "      <td>171.4144</td>\n",
       "      <td>0.042823</td>\n",
       "    </tr>\n",
       "    <tr>\n",
       "      <th>9</th>\n",
       "      <td>0.0347</td>\n",
       "      <td>121.6020</td>\n",
       "      <td>505.6681</td>\n",
       "      <td>99.9829</td>\n",
       "      <td>169.5163</td>\n",
       "      <td>0.555003</td>\n",
       "    </tr>\n",
       "    <tr>\n",
       "      <th>10</th>\n",
       "      <td>-4.0701</td>\n",
       "      <td>NaN</td>\n",
       "      <td>498.9423</td>\n",
       "      <td>99.6483</td>\n",
       "      <td>167.9932</td>\n",
       "      <td>0.850434</td>\n",
       "    </tr>\n",
       "  </tbody>\n",
       "</table>\n",
       "</div>"
      ],
      "text/plain": [
       "    Diff_PressureC1_     Temp1    FlowC1   FlowC9    TempC3  Random_Uniform\n",
       "0                NaN  139.9857  432.0636  86.6133  180.5578        0.036153\n",
       "1            -9.9628  131.0470  487.4029  97.6100  172.6575        0.857658\n",
       "2            -0.0695  118.2666  437.3516  88.4967  165.9400        0.646621\n",
       "3             0.2257  118.1769  481.8314  95.3483       NaN        0.531245\n",
       "4            -0.1678  120.7891       NaN  82.9533  167.0326        0.056845\n",
       "6             0.3616  120.8903  493.8452  99.8533  169.9978        0.669852\n",
       "7             0.1880  119.4786  429.0580  85.8233  166.9747        0.123346\n",
       "8            -0.2575  124.8390  414.0616  82.6411  171.4144        0.042823\n",
       "9             0.0347  121.6020  505.6681  99.9829  169.5163        0.555003\n",
       "10           -4.0701       NaN  498.9423  99.6483  167.9932        0.850434"
      ]
     },
     "execution_count": 10,
     "metadata": {},
     "output_type": "execute_result"
    }
   ],
   "source": [
    "X.head(10) # X head (after dropping rows from y NaNs)"
   ]
  },
  {
   "cell_type": "markdown",
   "metadata": {},
   "source": [
    "# Feature generation"
   ]
  },
  {
   "cell_type": "code",
   "execution_count": 11,
   "metadata": {
    "execution": {
     "iopub.execute_input": "2022-09-12T21:11:36.006264Z",
     "iopub.status.busy": "2022-09-12T21:11:36.006264Z",
     "iopub.status.idle": "2022-09-12T21:11:36.018629Z",
     "shell.execute_reply": "2022-09-12T21:11:36.017045Z"
    }
   },
   "outputs": [
    {
     "name": "stdout",
     "output_type": "stream",
     "text": [
      "N of rows for finite difference feature 1\n",
      "Loading data time [s]: 0.07\n"
     ]
    }
   ],
   "source": [
    "diff_period = int(JMP_user_parameters['nrows'])\n",
    "\n",
    "print('N of rows for finite difference feature', diff_period)\n",
    "\n",
    "X_diff = X.diff(periods = diff_period, axis = 0).copy()\n",
    "X_diff.columns = ['Diff_'+col for col in X_diff.columns]\n",
    "X = pd.concat([X, X_diff], axis=1)\n",
    "\n",
    "toc = time.time() - tic\n",
    "print('Loading data time [s]:', round(toc, 2))\n",
    "tic = time.time()"
   ]
  },
  {
   "cell_type": "code",
   "execution_count": 12,
   "metadata": {
    "execution": {
     "iopub.execute_input": "2022-09-12T21:11:36.022617Z",
     "iopub.status.busy": "2022-09-12T21:11:36.022617Z",
     "iopub.status.idle": "2022-09-12T21:11:36.049125Z",
     "shell.execute_reply": "2022-09-12T21:11:36.048123Z"
    }
   },
   "outputs": [
    {
     "name": "stdout",
     "output_type": "stream",
     "text": [
      "Starting date parsing\n",
      "0   2016-08-21\n",
      "1   2016-08-23\n",
      "2   2016-08-26\n",
      "3   2016-08-29\n",
      "4   2016-08-30\n",
      "Name: Date, dtype: datetime64[ns]\n",
      "Creating time features\n",
      "Date parsing finished, total time [s]: 0.03\n"
     ]
    },
    {
     "name": "stderr",
     "output_type": "stream",
     "text": [
      "Series.dt.weekofyear and Series.dt.week have been deprecated. Please use Series.dt.isocalendar().week instead.\n"
     ]
    }
   ],
   "source": [
    "#add some time features\n",
    "\n",
    "print('Starting date parsing')\n",
    "\n",
    "if t_exists: # In case user does not introduce time\n",
    "    print(t.head())\n",
    "    \n",
    "    # Check first five years in time column\n",
    "    # if index was used as time year will be around 1904 (starting date in JMP)\n",
    "    \n",
    "    is_date_correct = (1960 <= np.nanmean(t.dt.year[0:5]))\n",
    "                       \n",
    "    if is_date_correct:\n",
    "        print('Creating time features')\n",
    "    \n",
    "        #t = t[diff_period:len(t)] # TODO WHY?\n",
    "    \n",
    "        day_of_month = True\n",
    "        day_of_week = True\n",
    "        day_of_year = True\n",
    "        week = True\n",
    "        week_of_month = True\n",
    "        month = True\n",
    "        quarter = True\n",
    "        semester = True\n",
    "        year = True\n",
    "        hour = True\n",
    "        minute = True\n",
    "\n",
    "        if day_of_month:\n",
    "            X['day_of_month'] = t.dt.day\n",
    "        if day_of_week:\n",
    "            X['day_of_week'] = t.dt.dayofweek\n",
    "        if day_of_year:\n",
    "            X['day_of_year'] = t.dt.dayofyear\n",
    "        if week:\n",
    "            X['week_of_year'] = t.dt.weekofyear\n",
    "        if week_of_month:\n",
    "            X['week_of_month'] = t.dt.day.divide(7).apply(np.floor)\n",
    "        if month:\n",
    "            X['month'] = t.dt.month\n",
    "        if quarter:\n",
    "            X['quarter'] = t.dt.quarter\n",
    "        if semester:\n",
    "            X['semester'] = t.dt.month.divide(6).apply(np.ceil) # NEW\n",
    "        if year:\n",
    "            X['year'] = t.dt.year\n",
    "        if hour:\n",
    "            X['hour'] = t.dt.hour\n",
    "        if minute:\n",
    "            X['minute'] = t.dt.minute\n",
    "\n",
    "toc = time.time() - tic\n",
    "print('Date parsing finished, total time [s]:', round(toc, 2))\n",
    "tic = time.time()"
   ]
  },
  {
   "cell_type": "markdown",
   "metadata": {},
   "source": [
    "# Modeling (RF LightGBM)"
   ]
  },
  {
   "cell_type": "code",
   "execution_count": 13,
   "metadata": {
    "execution": {
     "iopub.execute_input": "2022-09-12T21:11:36.054146Z",
     "iopub.status.busy": "2022-09-12T21:11:36.053115Z",
     "iopub.status.idle": "2022-09-12T21:11:36.111957Z",
     "shell.execute_reply": "2022-09-12T21:11:36.111957Z"
    }
   },
   "outputs": [
    {
     "name": "stdout",
     "output_type": "stream",
     "text": [
      "Modeling time [s]: 0.1\n"
     ]
    }
   ],
   "source": [
    "n_trees = int(JMP_user_parameters['nTrees']) # number of trees in the forest\n",
    "\n",
    "signal_to_noise = float(JMP_user_parameters['SignalToNoiseRatio']) # ratio to remove non features near the noise\n",
    "\n",
    "#add noise\n",
    "normalNoise = np.random.normal(size = len(X))\n",
    "uniNoise = np.random.uniform(size = len(X))\n",
    "\n",
    "#yy = y.values().copy()\n",
    "yy = y.to_numpy().copy()\n",
    "np.random.shuffle(yy)\n",
    "\n",
    "X['Normal Noise'] = normalNoise\n",
    "X['Uniform Noise'] = uniNoise\n",
    "X['Shuffle Yield Noise'] = yy\n",
    "\n",
    "lgbm = LGBMRegressor(n_estimators = n_trees) #keeping default for the other parameters\n",
    "if W_exists:\n",
    "    #weights = np.array(weights).reshape(1,-1).flatten()\n",
    "    #weights = weights[index_not_nan]  #not needed since lgbm handles missing values\n",
    "    y_model = lgbm.fit(X,y,sample_weight = np.array(weights).flatten())\n",
    "else:\n",
    "    y_model = lgbm.fit(X,y)  #LightGBM (as XGBoost) do not support some character in strings, this is why put X into an array\n",
    "\n",
    "imp_lgbm = lgbm.feature_importances_\n",
    "sorted_indices_lgbm = np.argsort(imp_lgbm)[::-1]\n",
    "\n",
    "\n",
    "toc = time.time() - tic\n",
    "print('Modeling time [s]:', round(toc, 1))\n",
    "tic = time.time()\n",
    "\n",
    "\n",
    "# TODO can we drop columns now so the Tree explainer goes faster?\n",
    "# If not, we need to rerun this for the explainer"
   ]
  },
  {
   "cell_type": "markdown",
   "metadata": {},
   "source": [
    "# Model (over)fit"
   ]
  },
  {
   "cell_type": "markdown",
   "metadata": {},
   "source": [
    "<div class=\"alert alert-block alert-info\">\n",
    "    <b>This is a DESCRIPTIVE model intended to find correlations and anomalies in the data to be analyzed.</b> \n",
    "    This means overfitting is expected and the model cannot be used to predict a different data set (as the process may have changed). <b>To expand the scope of this, there should be a proper train/test split in the cell above</b>.\n",
    "    Alternatively, user can train/test by setting several rows with 0 weights to see if performs equaly well.\n",
    "</div>"
   ]
  },
  {
   "cell_type": "code",
   "execution_count": 14,
   "metadata": {
    "execution": {
     "iopub.execute_input": "2022-09-12T21:11:36.123925Z",
     "iopub.status.busy": "2022-09-12T21:11:36.123925Z",
     "iopub.status.idle": "2022-09-12T21:11:36.365414Z",
     "shell.execute_reply": "2022-09-12T21:11:36.363368Z"
    }
   },
   "outputs": [
    {
     "data": {
      "image/png": "[encoded data removed]",
      "text/plain": [
       "<Figure size 640x480 with 1 Axes>"
      ]
     },
     "metadata": {},
     "output_type": "display_data"
    }
   ],
   "source": [
    "if W_exists:\n",
    "    y_predictions = y_model.predict(X)\n",
    "    df_Ys = pd.DataFrame({'y': y, 'y_pred': y_predictions, 'Weight': W})\n",
    "    df_Ys.plot.scatter(x='y_pred', y='y', c='Weight', colormap='viridis')\n",
    "\n",
    "else:\n",
    "    y_predictions = y_model.predict(X)\n",
    "    df_Ys = pd.DataFrame({'y': y, 'y_pred': y_predictions})\n",
    "    df_Ys.plot.scatter(x='y_pred', y='y')"
   ]
  },
  {
   "cell_type": "markdown",
   "metadata": {},
   "source": [
    "# Explainer (shap)"
   ]
  },
  {
   "cell_type": "code",
   "execution_count": 15,
   "metadata": {
    "execution": {
     "iopub.execute_input": "2022-09-12T21:11:36.375384Z",
     "iopub.status.busy": "2022-09-12T21:11:36.375384Z",
     "iopub.status.idle": "2022-09-12T21:11:36.967367Z",
     "shell.execute_reply": "2022-09-12T21:11:36.965326Z"
    }
   },
   "outputs": [
    {
     "data": {
      "image/png": "[encoded data removed]",
      "text/plain": [
       "<Figure size 800x950 with 2 Axes>"
      ]
     },
     "metadata": {},
     "output_type": "display_data"
    }
   ],
   "source": [
    "explainer_lgbm = shap.TreeExplainer(lgbm, feature_perturbation='tree_path_dependent') #by default if do not provide any backgound dataset: tree_path_dependent\n",
    "shap_values_lgbm = explainer_lgbm.shap_values(X)\n",
    "\n",
    "if is_plotting:\n",
    "    shap.summary_plot(shap_values_lgbm, X)"
   ]
  },
  {
   "cell_type": "code",
   "execution_count": 16,
   "metadata": {
    "execution": {
     "iopub.execute_input": "2022-09-12T21:11:36.974342Z",
     "iopub.status.busy": "2022-09-12T21:11:36.974342Z",
     "iopub.status.idle": "2022-09-12T21:11:36.998256Z",
     "shell.execute_reply": "2022-09-12T21:11:36.997236Z"
    },
    "scrolled": true
   },
   "outputs": [
    {
     "name": "stdout",
     "output_type": "stream",
     "text": [
      "list of columns above noise ratio:  ['Diff_PressureC1_', 'FlowC1', 'Temp1']\n",
      "SHAP time [s]: 0.9\n"
     ]
    }
   ],
   "source": [
    "\n",
    "df_shap_values = pd.DataFrame(shap_values_lgbm, index=X.index, columns=X.columns)\n",
    "\n",
    "shap_lgbm_abs = abs(shap_values_lgbm)\n",
    "\n",
    "mean_shap = shap_lgbm_abs.mean(axis=0)\n",
    "std_shap = shap_lgbm_abs.std(axis=0)\n",
    "\n",
    "#for some features,shap values always equal to 0 --> mean_shap contains null values\n",
    "#for the ones that are null put an extremely small values?\n",
    "mean_shap[np.where(mean_shap==0)] = 1e-9\n",
    "CoefVariance_shap = std_shap/mean_shap \n",
    "\n",
    "#table of the mean and std shap\n",
    "df_global_shap_values = pd.DataFrame({'Tags':X.columns,\n",
    "                     'mean':mean_shap,\n",
    "                     'std':std_shap,\n",
    "                     'CoefVariance':CoefVariance_shap})\n",
    "\n",
    "df_global_shap_values.sort_values(by='mean', ascending=False, inplace=True)\n",
    "\n",
    "col_list_by_mean_shap = df_global_shap_values['Tags'].tolist()\n",
    "\n",
    "# Reodering cloumns by shap mean value\n",
    "X = X[col_list_by_mean_shap]\n",
    "df_shap_values = df_shap_values[col_list_by_mean_shap]\n",
    "\n",
    "list_ordered_factors = col_list_by_mean_shap\n",
    "index_noise_shuffle = list_ordered_factors.index('Shuffle Yield Noise')\n",
    "index_noise_normal = list_ordered_factors.index('Normal Noise')\n",
    "index_noise_uni = list_ordered_factors.index('Uniform Noise')\n",
    "min_index_noise = min(index_noise_shuffle,index_noise_normal,index_noise_uni)\n",
    "\n",
    "col_name_noise = col_list_by_mean_shap[min_index_noise]\n",
    "# Drop columns which SHAP average is below noise to ratio cut\n",
    "\n",
    "# Gets the noise mean value\n",
    "#noise_impact = float(df_global_shap_values['mean'].tail(1))\n",
    "noise_impact = df_global_shap_values.set_index('Tags')['mean'][col_name_noise]\n",
    "noise_cut_impact = signal_to_noise * noise_impact\n",
    "\n",
    "# Finds columns with higher impact\n",
    "bool_columns_after_noise_ratio_cut = df_global_shap_values['mean'].gt(noise_cut_impact)\n",
    "col_list_after_noise_ratio_cut = df_global_shap_values[bool_columns_after_noise_ratio_cut]['Tags'].tolist()\n",
    "print('list of columns above noise ratio: ', col_list_after_noise_ratio_cut)\n",
    "\n",
    "\n",
    "# Appends noise column to visualize baseline\n",
    "col_list_after_noise_ratio_cut.append(col_name_noise)\n",
    "\n",
    "if 'SHAP_row_index' in col_list_after_noise_ratio_cut:\n",
    "    # if a counter is important, this should be found by time index\n",
    "    col_list_after_noise_ratio_cut.remove('SHAP_row_index')\n",
    "\n",
    "# Alternative list with columns which SHAP average is just below noise (no noise ratio)\n",
    "col_list_by_mean_shap_cut = col_list_by_mean_shap[0:(min_index_noise+1)]\n",
    "\n",
    "# Simple index\n",
    "# X['SHAP_row_index'] = range(1, len(X) + 1)\n",
    "\n",
    "try:\n",
    "    # Match JMP row index in case there were excluded rows\n",
    "    X['SHAP_row_index'] = JMP_row_index\n",
    "except:\n",
    "    # Failed using JMP row indexes\n",
    "    print('JMP row index was not passed properly to the solution.')\n",
    "    X['SHAP_row_index'] = range(1, len(X) + 1)\n",
    "\n",
    "X_SHAP_row_index = X['SHAP_row_index'].copy() # copy index before deleting\n",
    "X.drop(['SHAP_row_index'], axis=1, inplace=True)\n",
    "\n",
    "\n",
    "# TODO, which one is better?\n",
    "# X = X[col_list_by_mean_shap_cut]\n",
    "X = X[col_list_after_noise_ratio_cut]\n",
    "\n",
    "#X_normalized = (X-X.min())/(X.max()-X.min()) # not robust to outliers\n",
    "X_normalized = (X-X.quantile(0.03))/(X.quantile(0.97)-X.quantile(0.03))\n",
    "X_normalized = X_normalized.clip(0, 1)\n",
    "\n",
    "# add SHAP row index again\n",
    "#X_normalized['SHAP_row_index'] = X_SHAP_row_index\n",
    "\n",
    "if 'SHAP_row_index' in df_shap_values.columns:\n",
    "    df_shap_values.drop(['SHAP_row_index'], axis=1, inplace=True)\n",
    "# df_shap_values = df_shap_values[col_list_by_mean_shap_cut]\n",
    "df_shap_values = df_shap_values[col_list_after_noise_ratio_cut]\n",
    "\n",
    "# Full list until noise (no signal ratio used in case user wants to reduce it)\n",
    "df_global_shap_values = df_global_shap_values.iloc[0:(min_index_noise+1),:]\n",
    "\n",
    "toc = time.time() - tic\n",
    "print('SHAP time [s]:', round(toc, 1))\n",
    "tic = time.time()\n",
    "\n"
   ]
  },
  {
   "cell_type": "code",
   "execution_count": 17,
   "metadata": {
    "execution": {
     "iopub.execute_input": "2022-09-12T21:11:37.002261Z",
     "iopub.status.busy": "2022-09-12T21:11:37.002261Z",
     "iopub.status.idle": "2022-09-12T21:11:37.029844Z",
     "shell.execute_reply": "2022-09-12T21:11:37.028808Z"
    }
   },
   "outputs": [],
   "source": [
    "# Tables for shap plots in JMP\n",
    "\n",
    "if t_exists:\n",
    "    df_shap_values = pd.concat([t, y, df_shap_values], axis=1)\n",
    "    \n",
    "    # Adds original row index as unique identifier\n",
    "    # TODO use JMP index instead (in case there were excluded rows)\n",
    "    df_shap_values.insert(0, X_SHAP_row_index.name, X_SHAP_row_index.values)\n",
    "    \n",
    "    df_shap_values_melted = df_shap_values.melt(id_vars=[X_SHAP_row_index.name, t.name, y.name])\n",
    "    df_shap_values_melted.columns = [X_SHAP_row_index.name, t.name, y.name, 'tag', 'shap(value)'] \n",
    "    \n",
    "    X_melted = X.melt()\n",
    "    X_melted.columns = ['tag', 'value']\n",
    "    \n",
    "    X_norm_melted = X_normalized.melt()\n",
    "    X_norm_melted.columns = ['tag', 'norm(value)']\n",
    "    \n",
    "    df_shap_plot_table = pd.concat([df_shap_values_melted,\n",
    "                                    X_melted['value'],\n",
    "                                    X_norm_melted['norm(value)']],\n",
    "                                   axis=1)\n",
    "    \n",
    "else:\n",
    "    df_shap_values = pd.concat([y, df_shap_values], axis=1)\n",
    "    \n",
    "    # Adds original row index as unique identifier\n",
    "    df_shap_values.insert(0, X_SHAP_row_index.name, X_SHAP_row_index.values)\n",
    "    \n",
    "    df_shap_values_melted = df_shap_values.melt(id_vars=[X_SHAP_row_index.name, y.name])\n",
    "    df_shap_values_melted.columns = [X_SHAP_row_index.name, y.name, 'tag', 'shap(value)'] \n",
    "                                    \n",
    "    X_melted = X.melt()\n",
    "    X_melted.columns = ['tag', 'value']\n",
    "    \n",
    "    X_norm_melted = X_normalized.melt()\n",
    "    X_norm_melted.columns = ['tag', 'norm(value)']\n",
    "    \n",
    "    df_shap_plot_table = pd.concat([df_shap_values_melted,\n",
    "                                    X_melted['value'],\n",
    "                                    X_norm_melted['norm(value)']],\n",
    "                                   axis=1)\n",
    "\n"
   ]
  },
  {
   "cell_type": "code",
   "execution_count": 18,
   "metadata": {
    "execution": {
     "iopub.execute_input": "2022-09-12T21:11:37.033833Z",
     "iopub.status.busy": "2022-09-12T21:11:37.033833Z",
     "iopub.status.idle": "2022-09-12T21:11:37.045329Z",
     "shell.execute_reply": "2022-09-12T21:11:37.044329Z"
    }
   },
   "outputs": [],
   "source": [
    "# Exporting files to temp CSVs"
   ]
  },
  {
   "cell_type": "code",
   "execution_count": 19,
   "metadata": {
    "execution": {
     "iopub.execute_input": "2022-09-12T21:11:37.049317Z",
     "iopub.status.busy": "2022-09-12T21:11:37.049317Z",
     "iopub.status.idle": "2022-09-12T21:11:37.077264Z",
     "shell.execute_reply": "2022-09-12T21:11:37.076451Z"
    }
   },
   "outputs": [
    {
     "name": "stdout",
     "output_type": "stream",
     "text": [
      "Exporting time [s]: 0.08\n"
     ]
    }
   ],
   "source": [
    "df_shap_values_path_csv = os.path.join(temp_data_path,'df_shap_values.csv')\n",
    "df_global_shap_values_path_csv = os.path.join(temp_data_path,'df_global_shap_values.csv')\n",
    "df_shap_plot_table_path_csv = os.path.join(temp_data_path,'df_shap_plot_table.csv')\n",
    "\n",
    "df_shap_values.to_csv(df_shap_values_path_csv)\n",
    "df_global_shap_values.to_csv(df_global_shap_values_path_csv)\n",
    "df_shap_plot_table.to_csv(df_shap_plot_table_path_csv)\n",
    "\n",
    "\n",
    "toc = time.time() - tic\n",
    "print('Exporting time [s]:', round(toc, 2))\n",
    "tic = time.time()\n"
   ]
  },
  {
   "cell_type": "code",
   "execution_count": 20,
   "metadata": {
    "execution": {
     "iopub.execute_input": "2022-09-12T21:11:37.081233Z",
     "iopub.status.busy": "2022-09-12T21:11:37.081233Z",
     "iopub.status.idle": "2022-09-12T21:11:37.093226Z",
     "shell.execute_reply": "2022-09-12T21:11:37.092224Z"
    }
   },
   "outputs": [],
   "source": [
    "# Visualization of tables in Notebook"
   ]
  },
  {
   "cell_type": "code",
   "execution_count": 21,
   "metadata": {
    "execution": {
     "iopub.execute_input": "2022-09-12T21:11:37.097236Z",
     "iopub.status.busy": "2022-09-12T21:11:37.096218Z",
     "iopub.status.idle": "2022-09-12T21:11:37.123945Z",
     "shell.execute_reply": "2022-09-12T21:11:37.123945Z"
    }
   },
   "outputs": [
    {
     "data": {
      "text/html": [
       "<div>\n",
       "<style scoped>\n",
       "    .dataframe tbody tr th:only-of-type {\n",
       "        vertical-align: middle;\n",
       "    }\n",
       "\n",
       "    .dataframe tbody tr th {\n",
       "        vertical-align: top;\n",
       "    }\n",
       "\n",
       "    .dataframe thead th {\n",
       "        text-align: right;\n",
       "    }\n",
       "</style>\n",
       "<table border=\"1\" class=\"dataframe\">\n",
       "  <thead>\n",
       "    <tr style=\"text-align: right;\">\n",
       "      <th></th>\n",
       "      <th>SHAP_row_index</th>\n",
       "      <th>Date</th>\n",
       "      <th>yield</th>\n",
       "      <th>Diff_PressureC1_</th>\n",
       "      <th>FlowC1</th>\n",
       "      <th>Temp1</th>\n",
       "      <th>Uniform Noise</th>\n",
       "    </tr>\n",
       "  </thead>\n",
       "  <tbody>\n",
       "    <tr>\n",
       "      <th>0</th>\n",
       "      <td>1</td>\n",
       "      <td>2016-08-21</td>\n",
       "      <td>69.400623</td>\n",
       "      <td>-1.223465</td>\n",
       "      <td>0.362549</td>\n",
       "      <td>0.168607</td>\n",
       "      <td>0.060872</td>\n",
       "    </tr>\n",
       "    <tr>\n",
       "      <th>1</th>\n",
       "      <td>2</td>\n",
       "      <td>2016-08-23</td>\n",
       "      <td>66.532666</td>\n",
       "      <td>-0.998225</td>\n",
       "      <td>0.073255</td>\n",
       "      <td>0.139064</td>\n",
       "      <td>-0.200426</td>\n",
       "    </tr>\n",
       "    <tr>\n",
       "      <th>2</th>\n",
       "      <td>3</td>\n",
       "      <td>2016-08-26</td>\n",
       "      <td>71.102193</td>\n",
       "      <td>0.488024</td>\n",
       "      <td>0.281731</td>\n",
       "      <td>0.096203</td>\n",
       "      <td>0.031794</td>\n",
       "    </tr>\n",
       "    <tr>\n",
       "      <th>3</th>\n",
       "      <td>4</td>\n",
       "      <td>2016-08-29</td>\n",
       "      <td>69.793481</td>\n",
       "      <td>0.277346</td>\n",
       "      <td>0.113361</td>\n",
       "      <td>0.104254</td>\n",
       "      <td>-0.196769</td>\n",
       "    </tr>\n",
       "    <tr>\n",
       "      <th>4</th>\n",
       "      <td>5</td>\n",
       "      <td>2016-08-30</td>\n",
       "      <td>71.489516</td>\n",
       "      <td>0.361921</td>\n",
       "      <td>0.672709</td>\n",
       "      <td>0.118071</td>\n",
       "      <td>0.010715</td>\n",
       "    </tr>\n",
       "    <tr>\n",
       "      <th>...</th>\n",
       "      <td>...</td>\n",
       "      <td>...</td>\n",
       "      <td>...</td>\n",
       "      <td>...</td>\n",
       "      <td>...</td>\n",
       "      <td>...</td>\n",
       "      <td>...</td>\n",
       "    </tr>\n",
       "    <tr>\n",
       "      <th>248</th>\n",
       "      <td>249</td>\n",
       "      <td>2019-01-26</td>\n",
       "      <td>69.037071</td>\n",
       "      <td>0.221738</td>\n",
       "      <td>-0.461181</td>\n",
       "      <td>0.218148</td>\n",
       "      <td>0.053571</td>\n",
       "    </tr>\n",
       "    <tr>\n",
       "      <th>249</th>\n",
       "      <td>250</td>\n",
       "      <td>2019-01-28</td>\n",
       "      <td>69.202425</td>\n",
       "      <td>-0.328177</td>\n",
       "      <td>-0.331146</td>\n",
       "      <td>0.235683</td>\n",
       "      <td>0.033538</td>\n",
       "    </tr>\n",
       "    <tr>\n",
       "      <th>250</th>\n",
       "      <td>251</td>\n",
       "      <td>2019-01-31</td>\n",
       "      <td>69.409546</td>\n",
       "      <td>0.317221</td>\n",
       "      <td>-0.375922</td>\n",
       "      <td>0.234684</td>\n",
       "      <td>0.041904</td>\n",
       "    </tr>\n",
       "    <tr>\n",
       "      <th>251</th>\n",
       "      <td>252</td>\n",
       "      <td>2019-02-03</td>\n",
       "      <td>69.072711</td>\n",
       "      <td>0.303871</td>\n",
       "      <td>-0.367039</td>\n",
       "      <td>0.207860</td>\n",
       "      <td>-0.163690</td>\n",
       "    </tr>\n",
       "    <tr>\n",
       "      <th>252</th>\n",
       "      <td>253</td>\n",
       "      <td>2019-02-04</td>\n",
       "      <td>68.128288</td>\n",
       "      <td>-1.017248</td>\n",
       "      <td>-0.307577</td>\n",
       "      <td>0.169743</td>\n",
       "      <td>-0.031633</td>\n",
       "    </tr>\n",
       "  </tbody>\n",
       "</table>\n",
       "<p>246 rows × 7 columns</p>\n",
       "</div>"
      ],
      "text/plain": [
       "     SHAP_row_index       Date      yield  Diff_PressureC1_    FlowC1  \\\n",
       "0                 1 2016-08-21  69.400623         -1.223465  0.362549   \n",
       "1                 2 2016-08-23  66.532666         -0.998225  0.073255   \n",
       "2                 3 2016-08-26  71.102193          0.488024  0.281731   \n",
       "3                 4 2016-08-29  69.793481          0.277346  0.113361   \n",
       "4                 5 2016-08-30  71.489516          0.361921  0.672709   \n",
       "..              ...        ...        ...               ...       ...   \n",
       "248             249 2019-01-26  69.037071          0.221738 -0.461181   \n",
       "249             250 2019-01-28  69.202425         -0.328177 -0.331146   \n",
       "250             251 2019-01-31  69.409546          0.317221 -0.375922   \n",
       "251             252 2019-02-03  69.072711          0.303871 -0.367039   \n",
       "252             253 2019-02-04  68.128288         -1.017248 -0.307577   \n",
       "\n",
       "        Temp1  Uniform Noise  \n",
       "0    0.168607       0.060872  \n",
       "1    0.139064      -0.200426  \n",
       "2    0.096203       0.031794  \n",
       "3    0.104254      -0.196769  \n",
       "4    0.118071       0.010715  \n",
       "..        ...            ...  \n",
       "248  0.218148       0.053571  \n",
       "249  0.235683       0.033538  \n",
       "250  0.234684       0.041904  \n",
       "251  0.207860      -0.163690  \n",
       "252  0.169743      -0.031633  \n",
       "\n",
       "[246 rows x 7 columns]"
      ]
     },
     "execution_count": 21,
     "metadata": {},
     "output_type": "execute_result"
    }
   ],
   "source": [
    "df_shap_values"
   ]
  },
  {
   "cell_type": "code",
   "execution_count": 22,
   "metadata": {
    "execution": {
     "iopub.execute_input": "2022-09-12T21:11:37.128971Z",
     "iopub.status.busy": "2022-09-12T21:11:37.127937Z",
     "iopub.status.idle": "2022-09-12T21:11:37.140256Z",
     "shell.execute_reply": "2022-09-12T21:11:37.139254Z"
    }
   },
   "outputs": [
    {
     "data": {
      "text/plain": [
       "'yield'"
      ]
     },
     "execution_count": 22,
     "metadata": {},
     "output_type": "execute_result"
    }
   ],
   "source": [
    "y.name"
   ]
  },
  {
   "cell_type": "code",
   "execution_count": 23,
   "metadata": {
    "execution": {
     "iopub.execute_input": "2022-09-12T21:11:37.143248Z",
     "iopub.status.busy": "2022-09-12T21:11:37.143248Z",
     "iopub.status.idle": "2022-09-12T21:11:37.155925Z",
     "shell.execute_reply": "2022-09-12T21:11:37.154923Z"
    }
   },
   "outputs": [],
   "source": [
    "# df_shap_values.describe()"
   ]
  },
  {
   "cell_type": "code",
   "execution_count": 24,
   "metadata": {
    "execution": {
     "iopub.execute_input": "2022-09-12T21:11:37.159951Z",
     "iopub.status.busy": "2022-09-12T21:11:37.158917Z",
     "iopub.status.idle": "2022-09-12T21:11:37.172128Z",
     "shell.execute_reply": "2022-09-12T21:11:37.171093Z"
    }
   },
   "outputs": [
    {
     "data": {
      "text/html": [
       "<div>\n",
       "<style scoped>\n",
       "    .dataframe tbody tr th:only-of-type {\n",
       "        vertical-align: middle;\n",
       "    }\n",
       "\n",
       "    .dataframe tbody tr th {\n",
       "        vertical-align: top;\n",
       "    }\n",
       "\n",
       "    .dataframe thead th {\n",
       "        text-align: right;\n",
       "    }\n",
       "</style>\n",
       "<table border=\"1\" class=\"dataframe\">\n",
       "  <thead>\n",
       "    <tr style=\"text-align: right;\">\n",
       "      <th></th>\n",
       "      <th>Tags</th>\n",
       "      <th>mean</th>\n",
       "      <th>std</th>\n",
       "      <th>CoefVariance</th>\n",
       "    </tr>\n",
       "  </thead>\n",
       "  <tbody>\n",
       "    <tr>\n",
       "      <th>0</th>\n",
       "      <td>Diff_PressureC1_</td>\n",
       "      <td>0.462311</td>\n",
       "      <td>0.305530</td>\n",
       "      <td>0.660875</td>\n",
       "    </tr>\n",
       "    <tr>\n",
       "      <th>2</th>\n",
       "      <td>FlowC1</td>\n",
       "      <td>0.350718</td>\n",
       "      <td>0.178446</td>\n",
       "      <td>0.508803</td>\n",
       "    </tr>\n",
       "    <tr>\n",
       "      <th>1</th>\n",
       "      <td>Temp1</td>\n",
       "      <td>0.289702</td>\n",
       "      <td>0.410372</td>\n",
       "      <td>1.416531</td>\n",
       "    </tr>\n",
       "    <tr>\n",
       "      <th>6</th>\n",
       "      <td>Diff_Diff_PressureC1_</td>\n",
       "      <td>0.119088</td>\n",
       "      <td>0.123086</td>\n",
       "      <td>1.033569</td>\n",
       "    </tr>\n",
       "    <tr>\n",
       "      <th>3</th>\n",
       "      <td>FlowC9</td>\n",
       "      <td>0.106692</td>\n",
       "      <td>0.078510</td>\n",
       "      <td>0.735860</td>\n",
       "    </tr>\n",
       "    <tr>\n",
       "      <th>11</th>\n",
       "      <td>Diff_Random_Uniform</td>\n",
       "      <td>0.096279</td>\n",
       "      <td>0.085458</td>\n",
       "      <td>0.887612</td>\n",
       "    </tr>\n",
       "    <tr>\n",
       "      <th>4</th>\n",
       "      <td>TempC3</td>\n",
       "      <td>0.087380</td>\n",
       "      <td>0.088744</td>\n",
       "      <td>1.015612</td>\n",
       "    </tr>\n",
       "    <tr>\n",
       "      <th>14</th>\n",
       "      <td>day_of_year</td>\n",
       "      <td>0.073132</td>\n",
       "      <td>0.043792</td>\n",
       "      <td>0.598806</td>\n",
       "    </tr>\n",
       "    <tr>\n",
       "      <th>24</th>\n",
       "      <td>Uniform Noise</td>\n",
       "      <td>0.065182</td>\n",
       "      <td>0.054068</td>\n",
       "      <td>0.829502</td>\n",
       "    </tr>\n",
       "  </tbody>\n",
       "</table>\n",
       "</div>"
      ],
      "text/plain": [
       "                     Tags      mean       std  CoefVariance\n",
       "0        Diff_PressureC1_  0.462311  0.305530      0.660875\n",
       "2                  FlowC1  0.350718  0.178446      0.508803\n",
       "1                   Temp1  0.289702  0.410372      1.416531\n",
       "6   Diff_Diff_PressureC1_  0.119088  0.123086      1.033569\n",
       "3                  FlowC9  0.106692  0.078510      0.735860\n",
       "11    Diff_Random_Uniform  0.096279  0.085458      0.887612\n",
       "4                  TempC3  0.087380  0.088744      1.015612\n",
       "14            day_of_year  0.073132  0.043792      0.598806\n",
       "24          Uniform Noise  0.065182  0.054068      0.829502"
      ]
     },
     "execution_count": 24,
     "metadata": {},
     "output_type": "execute_result"
    }
   ],
   "source": [
    "df_global_shap_values"
   ]
  },
  {
   "cell_type": "code",
   "execution_count": 25,
   "metadata": {
    "execution": {
     "iopub.execute_input": "2022-09-12T21:11:37.176116Z",
     "iopub.status.busy": "2022-09-12T21:11:37.175084Z",
     "iopub.status.idle": "2022-09-12T21:11:37.186915Z",
     "shell.execute_reply": "2022-09-12T21:11:37.186295Z"
    }
   },
   "outputs": [],
   "source": [
    "#df_global_shap_values.describe()"
   ]
  },
  {
   "cell_type": "code",
   "execution_count": 26,
   "metadata": {
    "execution": {
     "iopub.execute_input": "2022-09-12T21:11:37.190936Z",
     "iopub.status.busy": "2022-09-12T21:11:37.190936Z",
     "iopub.status.idle": "2022-09-12T21:11:37.217882Z",
     "shell.execute_reply": "2022-09-12T21:11:37.217233Z"
    },
    "scrolled": false
   },
   "outputs": [
    {
     "data": {
      "text/html": [
       "<div>\n",
       "<style scoped>\n",
       "    .dataframe tbody tr th:only-of-type {\n",
       "        vertical-align: middle;\n",
       "    }\n",
       "\n",
       "    .dataframe tbody tr th {\n",
       "        vertical-align: top;\n",
       "    }\n",
       "\n",
       "    .dataframe thead th {\n",
       "        text-align: right;\n",
       "    }\n",
       "</style>\n",
       "<table border=\"1\" class=\"dataframe\">\n",
       "  <thead>\n",
       "    <tr style=\"text-align: right;\">\n",
       "      <th></th>\n",
       "      <th>SHAP_row_index</th>\n",
       "      <th>Date</th>\n",
       "      <th>yield</th>\n",
       "      <th>tag</th>\n",
       "      <th>shap(value)</th>\n",
       "      <th>value</th>\n",
       "      <th>norm(value)</th>\n",
       "    </tr>\n",
       "  </thead>\n",
       "  <tbody>\n",
       "    <tr>\n",
       "      <th>0</th>\n",
       "      <td>1</td>\n",
       "      <td>2016-08-21</td>\n",
       "      <td>69.400623</td>\n",
       "      <td>Diff_PressureC1_</td>\n",
       "      <td>-1.223465</td>\n",
       "      <td>NaN</td>\n",
       "      <td>NaN</td>\n",
       "    </tr>\n",
       "    <tr>\n",
       "      <th>1</th>\n",
       "      <td>2</td>\n",
       "      <td>2016-08-23</td>\n",
       "      <td>66.532666</td>\n",
       "      <td>Diff_PressureC1_</td>\n",
       "      <td>-0.998225</td>\n",
       "      <td>-9.962800</td>\n",
       "      <td>0.000000</td>\n",
       "    </tr>\n",
       "    <tr>\n",
       "      <th>2</th>\n",
       "      <td>3</td>\n",
       "      <td>2016-08-26</td>\n",
       "      <td>71.102193</td>\n",
       "      <td>Diff_PressureC1_</td>\n",
       "      <td>0.488024</td>\n",
       "      <td>-0.069500</td>\n",
       "      <td>0.458911</td>\n",
       "    </tr>\n",
       "    <tr>\n",
       "      <th>3</th>\n",
       "      <td>4</td>\n",
       "      <td>2016-08-29</td>\n",
       "      <td>69.793481</td>\n",
       "      <td>Diff_PressureC1_</td>\n",
       "      <td>0.277346</td>\n",
       "      <td>0.225700</td>\n",
       "      <td>0.474052</td>\n",
       "    </tr>\n",
       "    <tr>\n",
       "      <th>4</th>\n",
       "      <td>5</td>\n",
       "      <td>2016-08-30</td>\n",
       "      <td>71.489516</td>\n",
       "      <td>Diff_PressureC1_</td>\n",
       "      <td>0.361921</td>\n",
       "      <td>-0.167800</td>\n",
       "      <td>0.453869</td>\n",
       "    </tr>\n",
       "    <tr>\n",
       "      <th>...</th>\n",
       "      <td>...</td>\n",
       "      <td>...</td>\n",
       "      <td>...</td>\n",
       "      <td>...</td>\n",
       "      <td>...</td>\n",
       "      <td>...</td>\n",
       "      <td>...</td>\n",
       "    </tr>\n",
       "    <tr>\n",
       "      <th>979</th>\n",
       "      <td>249</td>\n",
       "      <td>2019-01-26</td>\n",
       "      <td>69.037071</td>\n",
       "      <td>Uniform Noise</td>\n",
       "      <td>0.053571</td>\n",
       "      <td>0.800204</td>\n",
       "      <td>0.813199</td>\n",
       "    </tr>\n",
       "    <tr>\n",
       "      <th>980</th>\n",
       "      <td>250</td>\n",
       "      <td>2019-01-28</td>\n",
       "      <td>69.202425</td>\n",
       "      <td>Uniform Noise</td>\n",
       "      <td>0.033538</td>\n",
       "      <td>0.457546</td>\n",
       "      <td>0.452689</td>\n",
       "    </tr>\n",
       "    <tr>\n",
       "      <th>981</th>\n",
       "      <td>251</td>\n",
       "      <td>2019-01-31</td>\n",
       "      <td>69.409546</td>\n",
       "      <td>Uniform Noise</td>\n",
       "      <td>0.041904</td>\n",
       "      <td>0.460667</td>\n",
       "      <td>0.455972</td>\n",
       "    </tr>\n",
       "    <tr>\n",
       "      <th>982</th>\n",
       "      <td>252</td>\n",
       "      <td>2019-02-03</td>\n",
       "      <td>69.072711</td>\n",
       "      <td>Uniform Noise</td>\n",
       "      <td>-0.163690</td>\n",
       "      <td>0.036933</td>\n",
       "      <td>0.010163</td>\n",
       "    </tr>\n",
       "    <tr>\n",
       "      <th>983</th>\n",
       "      <td>253</td>\n",
       "      <td>2019-02-04</td>\n",
       "      <td>68.128288</td>\n",
       "      <td>Uniform Noise</td>\n",
       "      <td>-0.031633</td>\n",
       "      <td>0.881387</td>\n",
       "      <td>0.898611</td>\n",
       "    </tr>\n",
       "  </tbody>\n",
       "</table>\n",
       "<p>984 rows × 7 columns</p>\n",
       "</div>"
      ],
      "text/plain": [
       "     SHAP_row_index       Date      yield               tag  shap(value)  \\\n",
       "0                 1 2016-08-21  69.400623  Diff_PressureC1_    -1.223465   \n",
       "1                 2 2016-08-23  66.532666  Diff_PressureC1_    -0.998225   \n",
       "2                 3 2016-08-26  71.102193  Diff_PressureC1_     0.488024   \n",
       "3                 4 2016-08-29  69.793481  Diff_PressureC1_     0.277346   \n",
       "4                 5 2016-08-30  71.489516  Diff_PressureC1_     0.361921   \n",
       "..              ...        ...        ...               ...          ...   \n",
       "979             249 2019-01-26  69.037071     Uniform Noise     0.053571   \n",
       "980             250 2019-01-28  69.202425     Uniform Noise     0.033538   \n",
       "981             251 2019-01-31  69.409546     Uniform Noise     0.041904   \n",
       "982             252 2019-02-03  69.072711     Uniform Noise    -0.163690   \n",
       "983             253 2019-02-04  68.128288     Uniform Noise    -0.031633   \n",
       "\n",
       "        value  norm(value)  \n",
       "0         NaN          NaN  \n",
       "1   -9.962800     0.000000  \n",
       "2   -0.069500     0.458911  \n",
       "3    0.225700     0.474052  \n",
       "4   -0.167800     0.453869  \n",
       "..        ...          ...  \n",
       "979  0.800204     0.813199  \n",
       "980  0.457546     0.452689  \n",
       "981  0.460667     0.455972  \n",
       "982  0.036933     0.010163  \n",
       "983  0.881387     0.898611  \n",
       "\n",
       "[984 rows x 7 columns]"
      ]
     },
     "execution_count": 26,
     "metadata": {},
     "output_type": "execute_result"
    }
   ],
   "source": [
    "df_shap_plot_table"
   ]
  },
  {
   "cell_type": "code",
   "execution_count": 27,
   "metadata": {
    "execution": {
     "iopub.execute_input": "2022-09-12T21:11:37.221835Z",
     "iopub.status.busy": "2022-09-12T21:11:37.221835Z",
     "iopub.status.idle": "2022-09-12T21:11:37.233432Z",
     "shell.execute_reply": "2022-09-12T21:11:37.232851Z"
    }
   },
   "outputs": [],
   "source": [
    "#df_shap_plot_table.describe()"
   ]
  },
  {
   "cell_type": "markdown",
   "metadata": {},
   "source": [
    "# UMAP Dimensionality reduction for selected inputs"
   ]
  },
  {
   "cell_type": "code",
   "execution_count": 28,
   "metadata": {
    "execution": {
     "iopub.execute_input": "2022-09-12T21:11:37.238417Z",
     "iopub.status.busy": "2022-09-12T21:11:37.238417Z",
     "iopub.status.idle": "2022-09-12T21:11:37.248403Z",
     "shell.execute_reply": "2022-09-12T21:11:37.248139Z"
    }
   },
   "outputs": [
    {
     "data": {
      "text/html": [
       "<div>\n",
       "<style scoped>\n",
       "    .dataframe tbody tr th:only-of-type {\n",
       "        vertical-align: middle;\n",
       "    }\n",
       "\n",
       "    .dataframe tbody tr th {\n",
       "        vertical-align: top;\n",
       "    }\n",
       "\n",
       "    .dataframe thead th {\n",
       "        text-align: right;\n",
       "    }\n",
       "</style>\n",
       "<table border=\"1\" class=\"dataframe\">\n",
       "  <thead>\n",
       "    <tr style=\"text-align: right;\">\n",
       "      <th></th>\n",
       "      <th>Diff_PressureC1_</th>\n",
       "      <th>FlowC1</th>\n",
       "      <th>Temp1</th>\n",
       "      <th>Uniform Noise</th>\n",
       "    </tr>\n",
       "  </thead>\n",
       "  <tbody>\n",
       "    <tr>\n",
       "      <th>0</th>\n",
       "      <td>NaN</td>\n",
       "      <td>432.0636</td>\n",
       "      <td>139.9857</td>\n",
       "      <td>0.422521</td>\n",
       "    </tr>\n",
       "    <tr>\n",
       "      <th>1</th>\n",
       "      <td>-9.9628</td>\n",
       "      <td>487.4029</td>\n",
       "      <td>131.0470</td>\n",
       "      <td>0.005404</td>\n",
       "    </tr>\n",
       "    <tr>\n",
       "      <th>2</th>\n",
       "      <td>-0.0695</td>\n",
       "      <td>437.3516</td>\n",
       "      <td>118.2666</td>\n",
       "      <td>0.805213</td>\n",
       "    </tr>\n",
       "    <tr>\n",
       "      <th>3</th>\n",
       "      <td>0.2257</td>\n",
       "      <td>481.8314</td>\n",
       "      <td>118.1769</td>\n",
       "      <td>0.116028</td>\n",
       "    </tr>\n",
       "    <tr>\n",
       "      <th>4</th>\n",
       "      <td>-0.1678</td>\n",
       "      <td>NaN</td>\n",
       "      <td>120.7891</td>\n",
       "      <td>0.679442</td>\n",
       "    </tr>\n",
       "  </tbody>\n",
       "</table>\n",
       "</div>"
      ],
      "text/plain": [
       "   Diff_PressureC1_    FlowC1     Temp1  Uniform Noise\n",
       "0               NaN  432.0636  139.9857       0.422521\n",
       "1           -9.9628  487.4029  131.0470       0.005404\n",
       "2           -0.0695  437.3516  118.2666       0.805213\n",
       "3            0.2257  481.8314  118.1769       0.116028\n",
       "4           -0.1678       NaN  120.7891       0.679442"
      ]
     },
     "execution_count": 28,
     "metadata": {},
     "output_type": "execute_result"
    }
   ],
   "source": [
    "# X has already the RF selected features ordered by importance\n",
    "X.head()"
   ]
  },
  {
   "cell_type": "code",
   "execution_count": 29,
   "metadata": {
    "execution": {
     "iopub.execute_input": "2022-09-12T21:11:37.252395Z",
     "iopub.status.busy": "2022-09-12T21:11:37.252395Z",
     "iopub.status.idle": "2022-09-12T21:11:48.958622Z",
     "shell.execute_reply": "2022-09-12T21:11:48.957624Z"
    }
   },
   "outputs": [
    {
     "name": "stdout",
     "output_type": "stream",
     "text": [
      "N of umap dimensions 2\n",
      "Distance metric: euclidean\n",
      "N of rows for finite differences 1\n"
     ]
    },
    {
     "data": {
      "image/png": "[encoded data removed]",
      "text/plain": [
       "<Figure size 800x800 with 1 Axes>"
      ]
     },
     "metadata": {},
     "output_type": "display_data"
    }
   ],
   "source": [
    "# Function was defined above\n",
    "\n",
    "if not(is_unspervised_learning):\n",
    "    n_umap_components = int(JMP_user_parameters['NdimUMAP'])\n",
    "    distance = str(JMP_user_parameters['metric'][0])\n",
    "    \n",
    "    df_umap, n_umap_components = umap_princ_components(X, n_umap_components, distance)"
   ]
  },
  {
   "cell_type": "code",
   "execution_count": 30,
   "metadata": {
    "execution": {
     "iopub.execute_input": "2022-09-12T21:11:48.964607Z",
     "iopub.status.busy": "2022-09-12T21:11:48.964607Z",
     "iopub.status.idle": "2022-09-12T21:11:48.989600Z",
     "shell.execute_reply": "2022-09-12T21:11:48.988602Z"
    }
   },
   "outputs": [],
   "source": [
    "# DO NOT EDIT THIS CELL\n",
    "\n",
    "# This file is generated only if all the notebook was executed correctly\n",
    "# JMP will stop if doesn't find it\n",
    "python_execution_check_csv = os.path.join(temp_data_path,'python_execution.csv')\n",
    "\n",
    "try:\n",
    "    os.remove(python_execution_check_csv)\n",
    "except:\n",
    "    print('Generating file to confirm python execution')\n",
    "\n",
    "pd.DataFrame({'Python': [1]}).to_csv(python_execution_check_csv)"
   ]
  },
  {
   "cell_type": "markdown",
   "metadata": {},
   "source": [
    "#  END"
   ]
  }
 ],
 "metadata": {
  "kernelspec": {
   "display_name": "Python 3 (ipykernel)",
   "language": "python",
   "name": "python3"
  },
  "language_info": {
   "codemirror_mode": {
    "name": "ipython",
    "version": 3
   },
   "file_extension": ".py",
   "mimetype": "text/x-python",
   "name": "python",
   "nbconvert_exporter": "python",
   "pygments_lexer": "ipython3",
   "version": "3.10.6"
  }
 },
 "nbformat": 4,
 "nbformat_minor": 4
}
